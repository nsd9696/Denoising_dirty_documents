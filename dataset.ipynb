{
  "nbformat": 4,
  "nbformat_minor": 0,
  "metadata": {
    "colab": {
      "name": "dataset.ipynb의 사본",
      "provenance": [],
      "collapsed_sections": []
    },
    "kernelspec": {
      "name": "python3",
      "display_name": "Python 3"
    },
    "accelerator": "GPU"
  },
  "cells": [
    {
      "cell_type": "code",
      "metadata": {
        "id": "vFukCt0lXms9",
        "colab_type": "code",
        "outputId": "c9ef9d1e-7847-4372-8bbe-3965e2fb6f69",
        "colab": {
          "base_uri": "https://localhost:8080/",
          "height": 123
        }
      },
      "source": [
        "from google.colab import drive\n",
        "drive.mount('/gdrive', force_remount=True)"
      ],
      "execution_count": 4,
      "outputs": [
        {
          "output_type": "stream",
          "text": [
            "Go to this URL in a browser: https://accounts.google.com/o/oauth2/auth?client_id=947318989803-6bn6qk8qdgf4n4g3pfee6491hc0brc4i.apps.googleusercontent.com&redirect_uri=urn%3aietf%3awg%3aoauth%3a2.0%3aoob&response_type=code&scope=email%20https%3a%2f%2fwww.googleapis.com%2fauth%2fdocs.test%20https%3a%2f%2fwww.googleapis.com%2fauth%2fdrive%20https%3a%2f%2fwww.googleapis.com%2fauth%2fdrive.photos.readonly%20https%3a%2f%2fwww.googleapis.com%2fauth%2fpeopleapi.readonly\n",
            "\n",
            "Enter your authorization code:\n",
            "··········\n",
            "Mounted at /gdrive\n"
          ],
          "name": "stdout"
        }
      ]
    },
    {
      "cell_type": "code",
      "metadata": {
        "id": "fo3H63IUYGjy",
        "colab_type": "code",
        "outputId": "2bbf859e-ed8d-4b3d-ee2c-bebfb8c747b7",
        "colab": {
          "base_uri": "https://localhost:8080/",
          "height": 155
        }
      },
      "source": [
        "!ls \"/gdrive/My Drive\""
      ],
      "execution_count": 5,
      "outputs": [
        {
          "output_type": "stream",
          "text": [
            " 데이터사이언스메뉴얼\t\t      '코로나 데이터 셋 설명.gdoc'\n",
            "'0405 학술제 팀별 진행계획.gdoc'      '데이콘 코로나 시각화 공모전.gdoc'\n",
            " 코로나2주차주제_0407.gdoc\t      '학술제 타임테이블.gdoc'\n",
            "'bhc해바라기 봉사단 4월 계획서.gdoc'  '데이터사이언스 메뉴얼.gdoc'\n",
            " cifar-class\t\t\t       mnist\n",
            "'Colab Notebooks'\t\t       큐시즘_경쟁pt\n",
            " denoising-dirty-documents\t       python_study.ipynb\n",
            "'제목 없는 문서.gdoc'\t\t       Untitled0.ipynb\n"
          ],
          "name": "stdout"
        }
      ]
    },
    {
      "cell_type": "code",
      "metadata": {
        "id": "BKTHfwbQvhgC",
        "colab_type": "code",
        "colab": {}
      },
      "source": [
        "import numpy as np\n",
        "import pandas as pd\n",
        "import matplotlib.pyplot as plt\n",
        "import cv2\n",
        "import os\n",
        "import torch\n",
        "import torchvision\n",
        "import glob\n",
        "import torch.nn as nn\n",
        "import torch.optim as optim\n",
        "import torch.nn.functional as F\n",
        " \n",
        "from torchvision.transforms import transforms\n",
        "from torch.utils.data import Dataset, DataLoader\n",
        "from torchvision.utils import save_image"
      ],
      "execution_count": 0,
      "outputs": []
    },
    {
      "cell_type": "code",
      "metadata": {
        "id": "FsQZB88kvmgG",
        "colab_type": "code",
        "colab": {}
      },
      "source": [
        "TRAIN_IMAGES = glob.glob('/gdrive/My Drive/denoising-dirty-documents/train/train/*.png')\n",
        "TRAIN_CLEAN = glob.glob('/gdrive/My Drive/denoising-dirty-documents/train_cleaned/train_cleaned/*.png')\n",
        "TEST_IMAGES = glob.glob('/gdrive/My Drive/denoising-dirty-documents/test/test/*.png')"
      ],
      "execution_count": 0,
      "outputs": []
    },
    {
      "cell_type": "code",
      "metadata": {
        "id": "B0raa5EwwFpa",
        "colab_type": "code",
        "colab": {}
      },
      "source": [
        "def get_data(path):\n",
        "    images = []\n",
        "    for i, image in enumerate(path):\n",
        "        image = cv2.imread(image)\n",
        "        image = cv2.resize(image, (256, 256))\n",
        "        image = np.reshape(image, image.shape[0]*image.shape[1]*image.shape[2])\n",
        "        images.append(image)\n",
        "    return images\n",
        " \n",
        "x_train = get_data(TRAIN_IMAGES)\n",
        "y_train = get_data(TRAIN_CLEAN)\n",
        "x_test = get_data(TEST_IMAGES)"
      ],
      "execution_count": 0,
      "outputs": []
    },
    {
      "cell_type": "code",
      "metadata": {
        "id": "Ez7JnwV3xcLs",
        "colab_type": "code",
        "colab": {
          "base_uri": "https://localhost:8080/",
          "height": 86
        },
        "outputId": "ca5bc45c-c6ae-44d4-aede-25127d8e8136"
      },
      "source": [
        "\n",
        "print(len(x_train))\n",
        "print(len(y_train))\n",
        "print(len(x_test))\n",
        " \n",
        "print(x_train[1])"
      ],
      "execution_count": 9,
      "outputs": [
        {
          "output_type": "stream",
          "text": [
            "144\n",
            "144\n",
            "72\n",
            "[225 225 225 ... 215 215 215]\n"
          ],
          "name": "stdout"
        }
      ]
    },
    {
      "cell_type": "code",
      "metadata": {
        "id": "5j_tGqa3xddo",
        "colab_type": "code",
        "colab": {}
      },
      "source": [
        ""
      ],
      "execution_count": 0,
      "outputs": []
    },
    {
      "cell_type": "code",
      "metadata": {
        "id": "AM5Me1GmxiLp",
        "colab_type": "code",
        "colab": {}
      },
      "source": [
        "# constants\n",
        "NUM_EPOCHS = 100\n",
        "LEARNING_RATE = 1e-3\n",
        "BATCH_SIZE = 2"
      ],
      "execution_count": 0,
      "outputs": []
    },
    {
      "cell_type": "code",
      "metadata": {
        "id": "Xq4jS7yGxiuM",
        "colab_type": "code",
        "colab": {}
      },
      "source": [
        "\n",
        "# define transforms\n",
        "transform = transforms.Compose([\n",
        "     transforms.ToPILImage(),\n",
        "     transforms.ToTensor()\n",
        "])"
      ],
      "execution_count": 0,
      "outputs": []
    },
    {
      "cell_type": "code",
      "metadata": {
        "id": "1wy5etTJxkGO",
        "colab_type": "code",
        "colab": {}
      },
      "source": [
        "# prepare the dataset and the dataloader\n",
        "class ImageData(Dataset):\n",
        "    def __init__(self, images, labels=None, transforms=None):\n",
        "        self.X = images\n",
        "        self.y = labels\n",
        "        self.transforms = transforms\n",
        "         \n",
        "    def __len__(self):\n",
        "        return (len(self.X))\n",
        "    \n",
        "    def __getitem__(self, i):\n",
        "        data = self.X[i][:]\n",
        "        data = np.asarray(data).astype(np.uint8).reshape((256, 256, 3))\n",
        "        \n",
        "        if self.transforms:\n",
        "            data = self.transforms(data)\n",
        "            \n",
        "        if self.y is not None:\n",
        "            labels = self.y[i][:]\n",
        "            labels = np.asarray(labels).astype(np.uint8).reshape((256, 256, 3))\n",
        "            labels = self.transforms(labels)\n",
        "            return (data, labels)\n",
        "        else:\n",
        "            return data\n",
        "        \n",
        "train_data = ImageData(x_train, y_train, transform)\n",
        "test_data = ImageData(x_test, None, transform)\n",
        " \n",
        "train_loader = DataLoader(train_data, batch_size=BATCH_SIZE, shuffle=True)\n",
        "test_loader = DataLoader(test_data, batch_size=BATCH_SIZE, shuffle=True)"
      ],
      "execution_count": 0,
      "outputs": []
    },
    {
      "cell_type": "code",
      "metadata": {
        "id": "27VhSHaxxqv7",
        "colab_type": "code",
        "colab": {
          "base_uri": "https://localhost:8080/",
          "height": 34
        },
        "outputId": "96a29e28-2e07-4aa0-d32c-6c63aa678d8b"
      },
      "source": [
        ""
      ],
      "execution_count": 13,
      "outputs": [
        {
          "output_type": "execute_result",
          "data": {
            "text/plain": [
              "<__main__.ImageData at 0x7fb1d7736978>"
            ]
          },
          "metadata": {
            "tags": []
          },
          "execution_count": 13
        }
      ]
    },
    {
      "cell_type": "code",
      "metadata": {
        "id": "VaXIzjDYx3s2",
        "colab_type": "code",
        "colab": {}
      },
      "source": [
        ""
      ],
      "execution_count": 0,
      "outputs": []
    }
  ]
}